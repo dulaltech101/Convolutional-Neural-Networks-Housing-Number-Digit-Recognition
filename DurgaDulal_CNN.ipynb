{
  "nbformat": 4,
  "nbformat_minor": 0,
  "metadata": {
    "accelerator": "GPU",
    "colab": {
      "name": "DurgaDulal_CNN.ipynb",
      "provenance": [],
      "collapsed_sections": [],
      "machine_shape": "hm",
      "include_colab_link": true
    },
    "kernelspec": {
      "display_name": "Python 3",
      "language": "python",
      "name": "python3"
    },
    "language_info": {
      "codemirror_mode": {
        "name": "ipython",
        "version": 3
      },
      "file_extension": ".py",
      "mimetype": "text/x-python",
      "name": "python",
      "nbconvert_exporter": "python",
      "pygments_lexer": "ipython3",
      "version": "3.8.3"
    }
  },
  "cells": [
    {
      "cell_type": "markdown",
      "metadata": {
        "id": "view-in-github",
        "colab_type": "text"
      },
      "source": [
        "<a href=\"https://colab.research.google.com/github/dulaltech101/Convolutional-Neural-Networks-Street-View-Housing-Number-Digit-Recognition/blob/main/DurgaDulal_CNN.ipynb\" target=\"_parent\"><img src=\"https://colab.research.google.com/assets/colab-badge.svg\" alt=\"Open In Colab\"/></a>"
      ]
    },
    {
      "cell_type": "markdown",
      "metadata": {
        "id": "Q91KqmCRu64D"
      },
      "source": [
        "# **Project - Convolutional Neural Networks: Street View Housing Number Digit Recognition**\n",
        "\n",
        "# By: Durga P. Dulal \n",
        "\n",
        "Welcome to the project on classification using Convolutional Neural Networks. We will continue to work with the Street View Housing Numbers (SVHN) image dataset for this project.\n",
        "\n",
        "--------------\n",
        "### **Context:** \n",
        "--------------\n",
        "\n",
        "One of the most interesting tasks in deep learning is to recognize objects in natural scenes. The ability to process visual information using machine learning algorithms can be very useful as demonstrated in various applications.\n",
        "\n",
        "The SVHN dataset contains over 600,000 labeled digits cropped from street level photos. It is one of the most popular image recognition datasets. It has been used in neural networks created by Google to improve map quality by automatically transcribing the address numbers from a patch of pixels. The transcribed number with a known street address helps pinpoint the location of the building it represents. \n",
        "\n",
        "----------------\n",
        "### **Objective:**\n",
        "----------------\n",
        "\n",
        "Build a CNN model that can identify the digits in the images.\n",
        "\n",
        "-------------\n",
        "### **Dataset**\n",
        "-------------\n",
        "Here, we will use a subset of the original data to save some computation time. The dataset is provided as a .h5 file. The basic preprocessing steps have been done."
      ]
    },
    {
      "cell_type": "markdown",
      "metadata": {
        "id": "8z2Z7-OAs8QG"
      },
      "source": [
        "## **Mount the drive**\n",
        "Let us start by mounting the drive and importing the necessary libraries."
      ]
    },
    {
      "cell_type": "code",
      "metadata": {
        "colab": {
          "base_uri": "https://localhost:8080/"
        },
        "id": "03lDyQUuef7z",
        "outputId": "d11dc333-a92e-4ad9-cda6-82ad9a841ecd"
      },
      "source": [
        "from google.colab import drive\n",
        "drive.mount('/content/drive')"
      ],
      "execution_count": null,
      "outputs": [
        {
          "output_type": "stream",
          "text": [
            "Drive already mounted at /content/drive; to attempt to forcibly remount, call drive.mount(\"/content/drive\", force_remount=True).\n"
          ],
          "name": "stdout"
        }
      ]
    },
    {
      "cell_type": "markdown",
      "metadata": {
        "id": "C8U3DUa3eNsT"
      },
      "source": [
        "## **Importing libraries**"
      ]
    },
    {
      "cell_type": "code",
      "metadata": {
        "id": "-dVzeuF3eQx1"
      },
      "source": [
        "import numpy as np\n",
        "import pandas as pd\n",
        "import matplotlib.pyplot as plt\n",
        "import seaborn as sns\n",
        "\n",
        "from sklearn.model_selection import train_test_split\n",
        "from sklearn.preprocessing import MinMaxScaler\n",
        "\n",
        "import tensorflow as tf\n",
        "from tensorflow.keras.models import Sequential\n",
        "from tensorflow.keras.layers import Dense, Conv2D, MaxPool2D, BatchNormalization, Dropout, Flatten, LeakyReLU\n",
        "from tensorflow.keras.utils import to_categorical"
      ],
      "execution_count": null,
      "outputs": []
    },
    {
      "cell_type": "markdown",
      "metadata": {
        "id": "ucnevGLoyKf_"
      },
      "source": [
        "Let us check for the version of TensorFlow."
      ]
    },
    {
      "cell_type": "code",
      "metadata": {
        "colab": {
          "base_uri": "https://localhost:8080/"
        },
        "id": "W5as47YxyJVk",
        "outputId": "46ed4f71-b4b3-47cd-a2ca-8445c85c433c"
      },
      "source": [
        "print(tf.__version__)"
      ],
      "execution_count": null,
      "outputs": [
        {
          "output_type": "stream",
          "text": [
            "2.5.0\n"
          ],
          "name": "stdout"
        }
      ]
    },
    {
      "cell_type": "markdown",
      "metadata": {
        "id": "8lsux2ZwyTTR"
      },
      "source": [
        "## **Load the dataset**\n",
        "- Let us now load the dataset that is available as a .h5 file.\n",
        "- Split the data into train and the test dataset"
      ]
    },
    {
      "cell_type": "code",
      "metadata": {
        "id": "BApX9qgNsqV0",
        "scrolled": true
      },
      "source": [
        "import h5py\n",
        "\n",
        "# Open the file as read only\n",
        "# User can make changes in the path as required\n",
        "h5f = h5py.File('/content/drive/MyDrive/SVHN_single_grey1.h5', 'r')\n",
        "\n",
        "# Load the training and the test set\n",
        "X_train = h5f['X_train'][:]\n",
        "y_train = h5f['y_train'][:]\n",
        "X_test = h5f['X_test'][:]\n",
        "y_test = h5f['y_test'][:]\n",
        "\n",
        "\n",
        "# Close this file\n",
        "h5f.close()"
      ],
      "execution_count": null,
      "outputs": []
    },
    {
      "cell_type": "markdown",
      "metadata": {
        "id": "hVe0CYpUgj7w"
      },
      "source": [
        "Let's check the number of images in the training and testing data."
      ]
    },
    {
      "cell_type": "code",
      "metadata": {
        "colab": {
          "base_uri": "https://localhost:8080/"
        },
        "id": "y3lwKpOefkpA",
        "outputId": "83c6e070-1388-41ed-b29e-ceca23447150"
      },
      "source": [
        "len(X_train), len(X_test)"
      ],
      "execution_count": null,
      "outputs": [
        {
          "output_type": "execute_result",
          "data": {
            "text/plain": [
              "(42000, 18000)"
            ]
          },
          "metadata": {
            "tags": []
          },
          "execution_count": 43
        }
      ]
    },
    {
      "cell_type": "markdown",
      "metadata": {
        "id": "akTUOfLlgwoM"
      },
      "source": [
        "- There are 42,000 images in the training data and 18,000 images in the testing data. "
      ]
    },
    {
      "cell_type": "markdown",
      "metadata": {
        "id": "kxODV6HKykuc"
      },
      "source": [
        "## **Visualizing images**\n",
        "- Use X_train to visualize the first 10 images\n",
        "- Use Y_train to print the first 10 labels"
      ]
    },
    {
      "cell_type": "markdown",
      "metadata": {
        "id": "Rn5IZYv-e2TC"
      },
      "source": [
        "#### **Question 1: Complete the below code to visualize the first 10 images from the training data (1 Mark)**"
      ]
    },
    {
      "cell_type": "code",
      "metadata": {
        "colab": {
          "base_uri": "https://localhost:8080/",
          "height": 95
        },
        "id": "Bvsc8ytHsqWD",
        "outputId": "a98cdccf-ba01-4636-ee2a-674fca942025"
      },
      "source": [
        "# visualizing the first 10 images in the dataset and their labels\n",
        "plt.figure(figsize=(10, 1))\n",
        "\n",
        "for i in range(10):\n",
        "    plt.subplot(1, 10, i+1)\n",
        "    plt.imshow(X_train[i], cmap=\"gray\") # write the function to visualize images\n",
        "    plt.axis('off')\n",
        "\n",
        "plt.show()\n",
        "print('label for each of the above image: %s' % (y_train[0:10]))"
      ],
      "execution_count": null,
      "outputs": [
        {
          "output_type": "display_data",
          "data": {
            "image/png": "[encoded data removed]",
            "text/plain": [
              "<Figure size 720x72 with 10 Axes>"
            ]
          },
          "metadata": {
            "tags": [],
            "needs_background": "light"
          }
        },
        {
          "output_type": "stream",
          "text": [
            "label for each of the above image: [2 6 7 4 4 0 3 0 7 3]\n"
          ],
          "name": "stdout"
        }
      ]
    },
    {
      "cell_type": "markdown",
      "metadata": {
        "id": "kzoyeXHOy80N"
      },
      "source": [
        "## **Data Preparation**\n",
        "\n",
        "- Print the first image in the train image and figure out the shape of the images\n",
        "- Reshape the train and the test dataset to make them fit the first convolutional operation that we will create later. Figure out the required shape\n",
        "- Normalize the train and the test dataset by dividing by 255\n",
        "- Print the new shapes of the train and the test set\n",
        "- One-hot encode the target variable"
      ]
    },
    {
      "cell_type": "code",
      "metadata": {
        "colab": {
          "base_uri": "https://localhost:8080/"
        },
        "id": "NqndzQXng9rL",
        "outputId": "ef622a73-ad25-4498-8263-ab68de4e2322"
      },
      "source": [
        "# Shape of the images and the first image\n",
        "\n",
        "print(\"Shape:\", X_train[0].shape)\n",
        "print()\n",
        "print(\"First image:\\n\", X_train[0])"
      ],
      "execution_count": null,
      "outputs": [
        {
          "output_type": "stream",
          "text": [
            "Shape: (32, 32)\n",
            "\n",
            "First image:\n",
            " [[ 33.0704  30.2601  26.852  ...  71.4471  58.2204  42.9939]\n",
            " [ 25.2283  25.5533  29.9765 ... 113.0209 103.3639  84.2949]\n",
            " [ 26.2775  22.6137  40.4763 ... 113.3028 121.775  115.4228]\n",
            " ...\n",
            " [ 28.5502  36.212   45.0801 ...  24.1359  25.0927  26.0603]\n",
            " [ 38.4352  26.4733  23.2717 ...  28.1094  29.4683  30.0661]\n",
            " [ 50.2984  26.0773  24.0389 ...  49.6682  50.853   53.0377]]\n"
          ],
          "name": "stdout"
        }
      ]
    },
    {
      "cell_type": "code",
      "metadata": {
        "id": "D9YPwf9ysqWU"
      },
      "source": [
        "# Reshaping the dataset to flatten them. Remember that we always have to give a 4D array as input to CNNs\n",
        "\n",
        "X_train = X_train.reshape(X_train.shape[0], 32,32,1)\n",
        "X_test = X_test.reshape(X_test.shape[0], 32,32,1)"
      ],
      "execution_count": null,
      "outputs": []
    },
    {
      "cell_type": "code",
      "metadata": {
        "id": "q_yUUTp_mUzB"
      },
      "source": [
        "# Normalize inputs from 0-255 to 0-1\n",
        "\n",
        "X_train = X_train / 255.0\n",
        "X_test = X_test / 255.0"
      ],
      "execution_count": null,
      "outputs": []
    },
    {
      "cell_type": "code",
      "metadata": {
        "colab": {
          "base_uri": "https://localhost:8080/"
        },
        "id": "t7FSqOpamWkH",
        "outputId": "abd412cd-2432-49f9-9155-e4a40d2e13e0"
      },
      "source": [
        "# New shape \n",
        "\n",
        "print('Training set:', X_train.shape, y_train.shape)\n",
        "print('Test set:', X_test.shape, y_test.shape)"
      ],
      "execution_count": null,
      "outputs": [
        {
          "output_type": "stream",
          "text": [
            "Training set: (42000, 32, 32, 1) (42000,)\n",
            "Test set: (18000, 32, 32, 1) (18000,)\n"
          ],
          "name": "stdout"
        }
      ]
    },
    {
      "cell_type": "markdown",
      "metadata": {
        "id": "YP92jacue2TE"
      },
      "source": [
        "#### **Question 2: One-hot encode the labels in the target variable y_train and y_test (2 Marks)**"
      ]
    },
    {
      "cell_type": "code",
      "metadata": {
        "colab": {
          "base_uri": "https://localhost:8080/"
        },
        "id": "zL0lYER4sqWw",
        "outputId": "62931a92-0cdb-4b0b-9e03-27022edce475"
      },
      "source": [
        "#Write the function and appropriate variable name to one-hot encode the output\n",
        "\n",
        "y_train = to_categorical(y_train)\n",
        "y_test =  to_categorical(y_test)\n",
        "\n",
        "#test labels\n",
        "y_test"
      ],
      "execution_count": null,
      "outputs": [
        {
          "output_type": "execute_result",
          "data": {
            "text/plain": [
              "array([[0., 1., 0., ..., 0., 0., 0.],\n",
              "       [0., 0., 0., ..., 1., 0., 0.],\n",
              "       [0., 0., 1., ..., 0., 0., 0.],\n",
              "       ...,\n",
              "       [0., 0., 0., ..., 1., 0., 0.],\n",
              "       [0., 0., 0., ..., 0., 0., 1.],\n",
              "       [0., 0., 1., ..., 0., 0., 0.]], dtype=float32)"
            ]
          },
          "metadata": {
            "tags": []
          },
          "execution_count": 49
        }
      ]
    },
    {
      "cell_type": "markdown",
      "metadata": {
        "id": "ViqPOTquCF76"
      },
      "source": [
        "- Notice that each entry of y_test is a one-hot encoded vector instead of a single label."
      ]
    },
    {
      "cell_type": "markdown",
      "metadata": {
        "id": "yH-gVrzuByNA"
      },
      "source": [
        "## **Model Building**\n",
        "\n",
        "Now that we have done data preprocessing, let's build a CNN model."
      ]
    },
    {
      "cell_type": "code",
      "metadata": {
        "id": "eaGr-3Noe2TF"
      },
      "source": [
        "#Fixing the seed for random number generators\n",
        "np.random.seed(42)\n",
        "import random\n",
        "random.seed(42)\n",
        "tf.random.set_seed(42)"
      ],
      "execution_count": null,
      "outputs": []
    },
    {
      "cell_type": "markdown",
      "metadata": {
        "id": "UJDUoaEj1d6e"
      },
      "source": [
        "### **Model Architecture**\n",
        "- Write a function that returns a sequential model with the following architecture\n",
        " - First Convolutional layer with **16 filters and kernel size of 3x3**. Use the **'same' padding** and provide an **apt input shape**\n",
        " - Add a **LeakyRelu layer** with the **slope equal to 0.1**\n",
        " - Second Convolutional layer with **32 filters and kernel size of 3x3 with 'same' padding**\n",
        " - Another **LeakyRelu** with the **slope equal to 0.1**\n",
        " - A **max-pooling layer** with a **pool size of 2x2**\n",
        " - **Flatten** the output from the previous layer\n",
        " - Add a **dense layer with 32 nodes**\n",
        " - Add a **LeakyRelu layer with slope equal to 0.1**\n",
        " - Add the final **output layer with nodes equal to the number of classes** and **softmax activation**\n",
        " - Compile the model with the **categorical_crossentropy loss, adam optimizers (learning_rate = 0.001), and accuracy metric**. Do not fit the model here, just return the compiled model\n",
        "- Call the function and store the model in a new variable\n",
        "- Print the summary of the model.\n",
        "- Fit the model on the train data with a **validation split of 0.2, batch size = 32, verbose = 1, and 20 epochs**. Store the model building history to use later for visualization."
      ]
    },
    {
      "cell_type": "markdown",
      "metadata": {
        "id": "Uw8pZcNwe2TG"
      },
      "source": [
        "#### **Question 3: Build and train a CNN model as per the above mentioned architecture (10 Marks)**"
      ]
    },
    {
      "cell_type": "code",
      "metadata": {
        "id": "Cmi81Gr5sqW-"
      },
      "source": [
        "#Importing losses and optimizers modules\n",
        "from tensorflow.keras import losses\n",
        "from tensorflow.keras import optimizers\n",
        "\n",
        "#Define the function\n",
        "def cnn_model_1():\n",
        "    model_1= Sequential()\n",
        "    \n",
        "    # first conv layer with 16 filters and with kernel size 3x3\n",
        "    model_1.add(Conv2D(filters=16, kernel_size=(3, 3), padding='same', input_shape=(32, 32, 1)))\n",
        "\n",
        "    # adding leaky relu activation function with negative slope of 0.1\n",
        "    model_1.add(LeakyReLU(0.1))\n",
        "\n",
        "    # second conv layer with 32 filters and with kernel size 3x3\n",
        "    model_1.add(Conv2D(filters=32, kernel_size=(3, 3), padding='same'))\n",
        "\n",
        "    # leaky relu activation function with negative slope of 0.1\n",
        "    model_1.add(LeakyReLU(0.1))\n",
        "\n",
        "    # max-pooling layer with a pool size of 2x2\n",
        "    model_1.add(MaxPool2D(pool_size=(2, 2)))\n",
        "\n",
        "    # flatting the output from the previous layer\n",
        "    model_1.add(Flatten())\n",
        "\n",
        "    # adding a dense layer with 32 nodes\n",
        "    model_1.add(Dense(32))\n",
        "\n",
        "    # adding leaky relu activation function with with slope equal to 0.1\n",
        "    model_1.add(LeakyReLU(0.1))\n",
        "\n",
        "    # final output layer with 10 neurons & activation fuction(multi-class probm)\n",
        "    model_1.add(Dense(10, activation='softmax'))\n",
        "\n",
        "    #declare adam optimizer with learning rate of 0.001 \n",
        "    adam = optimizers.Adamax(learning_rate=0.001)\n",
        "    \n",
        "    #compile the m\n",
        "    model_1.compile(loss ='categorical_crossentropy',\n",
        "                  optimizer='adamax',\n",
        "                  metrics=['accuracy'])\n",
        "    return model_1"
      ],
      "execution_count": null,
      "outputs": []
    },
    {
      "cell_type": "code",
      "metadata": {
        "id": "bGCUI_xsImnH"
      },
      "source": [
        "#Build the model\n",
        "model_1 = cnn_model_1()"
      ],
      "execution_count": null,
      "outputs": []
    },
    {
      "cell_type": "code",
      "metadata": {
        "id": "ckJsLdmdQadZ",
        "colab": {
          "base_uri": "https://localhost:8080/"
        },
        "outputId": "402a0df7-7bd6-4bf1-f0a0-6f7d710672c6"
      },
      "source": [
        "#Print the model summary\n",
        "model_1.summary()"
      ],
      "execution_count": null,
      "outputs": [
        {
          "output_type": "stream",
          "text": [
            "Model: \"sequential_1\"\n",
            "_________________________________________________________________\n",
            "Layer (type)                 Output Shape              Param #   \n",
            "=================================================================\n",
            "conv2d_2 (Conv2D)            (None, 32, 32, 16)        160       \n",
            "_________________________________________________________________\n",
            "leaky_re_lu_3 (LeakyReLU)    (None, 32, 32, 16)        0         \n",
            "_________________________________________________________________\n",
            "conv2d_3 (Conv2D)            (None, 32, 32, 32)        4640      \n",
            "_________________________________________________________________\n",
            "leaky_re_lu_4 (LeakyReLU)    (None, 32, 32, 32)        0         \n",
            "_________________________________________________________________\n",
            "max_pooling2d (MaxPooling2D) (None, 16, 16, 32)        0         \n",
            "_________________________________________________________________\n",
            "flatten_1 (Flatten)          (None, 8192)              0         \n",
            "_________________________________________________________________\n",
            "dense_2 (Dense)              (None, 32)                262176    \n",
            "_________________________________________________________________\n",
            "leaky_re_lu_5 (LeakyReLU)    (None, 32)                0         \n",
            "_________________________________________________________________\n",
            "dense_3 (Dense)              (None, 10)                330       \n",
            "=================================================================\n",
            "Total params: 267,306\n",
            "Trainable params: 267,306\n",
            "Non-trainable params: 0\n",
            "_________________________________________________________________\n"
          ],
          "name": "stdout"
        }
      ]
    },
    {
      "cell_type": "code",
      "metadata": {
        "id": "3Fy3Dif_zcCk",
        "colab": {
          "base_uri": "https://localhost:8080/"
        },
        "outputId": "cb682fbb-abb6-4670-fe59-31a23578c661"
      },
      "source": [
        "# Fit the model\n",
        "history_model_1 = model_1.fit(X_train, y_train,\n",
        "            epochs=20,\n",
        "            validation_split=0.2,\n",
        "            batch_size = 32,\n",
        "            verbose=1)"
      ],
      "execution_count": null,
      "outputs": [
        {
          "output_type": "stream",
          "text": [
            "Epoch 1/20\n",
            "1050/1050 [==============================] - 4s 4ms/step - loss: 1.7289 - accuracy: 0.4356 - val_loss: 1.0974 - val_accuracy: 0.6744\n",
            "Epoch 2/20\n",
            "1050/1050 [==============================] - 4s 4ms/step - loss: 0.8502 - accuracy: 0.7557 - val_loss: 0.7149 - val_accuracy: 0.8020\n",
            "Epoch 3/20\n",
            "1050/1050 [==============================] - 4s 4ms/step - loss: 0.6504 - accuracy: 0.8108 - val_loss: 0.6456 - val_accuracy: 0.8127\n",
            "Epoch 4/20\n",
            "1050/1050 [==============================] - 4s 4ms/step - loss: 0.5733 - accuracy: 0.8345 - val_loss: 0.5802 - val_accuracy: 0.8355\n",
            "Epoch 5/20\n",
            "1050/1050 [==============================] - 4s 4ms/step - loss: 0.5317 - accuracy: 0.8469 - val_loss: 0.5887 - val_accuracy: 0.8360\n",
            "Epoch 6/20\n",
            "1050/1050 [==============================] - 4s 4ms/step - loss: 0.4971 - accuracy: 0.8571 - val_loss: 0.5698 - val_accuracy: 0.8381\n",
            "Epoch 7/20\n",
            "1050/1050 [==============================] - 4s 4ms/step - loss: 0.4756 - accuracy: 0.8640 - val_loss: 0.5303 - val_accuracy: 0.8510\n",
            "Epoch 8/20\n",
            "1050/1050 [==============================] - 4s 4ms/step - loss: 0.4558 - accuracy: 0.8701 - val_loss: 0.5298 - val_accuracy: 0.8490\n",
            "Epoch 9/20\n",
            "1050/1050 [==============================] - 4s 4ms/step - loss: 0.4320 - accuracy: 0.8757 - val_loss: 0.5099 - val_accuracy: 0.8576\n",
            "Epoch 10/20\n",
            "1050/1050 [==============================] - 4s 4ms/step - loss: 0.4167 - accuracy: 0.8778 - val_loss: 0.5000 - val_accuracy: 0.8620\n",
            "Epoch 11/20\n",
            "1050/1050 [==============================] - 4s 4ms/step - loss: 0.3973 - accuracy: 0.8851 - val_loss: 0.5193 - val_accuracy: 0.8573\n",
            "Epoch 12/20\n",
            "1050/1050 [==============================] - 4s 4ms/step - loss: 0.3811 - accuracy: 0.8872 - val_loss: 0.5000 - val_accuracy: 0.8623\n",
            "Epoch 13/20\n",
            "1050/1050 [==============================] - 4s 4ms/step - loss: 0.3655 - accuracy: 0.8936 - val_loss: 0.5148 - val_accuracy: 0.8587\n",
            "Epoch 14/20\n",
            "1050/1050 [==============================] - 4s 4ms/step - loss: 0.3514 - accuracy: 0.8977 - val_loss: 0.4938 - val_accuracy: 0.8676\n",
            "Epoch 15/20\n",
            "1050/1050 [==============================] - 4s 4ms/step - loss: 0.3405 - accuracy: 0.8998 - val_loss: 0.5062 - val_accuracy: 0.8601\n",
            "Epoch 16/20\n",
            "1050/1050 [==============================] - 4s 4ms/step - loss: 0.3270 - accuracy: 0.9045 - val_loss: 0.4878 - val_accuracy: 0.8631\n",
            "Epoch 17/20\n",
            "1050/1050 [==============================] - 4s 4ms/step - loss: 0.3160 - accuracy: 0.9063 - val_loss: 0.4810 - val_accuracy: 0.8700\n",
            "Epoch 18/20\n",
            "1050/1050 [==============================] - 4s 4ms/step - loss: 0.3023 - accuracy: 0.9121 - val_loss: 0.4841 - val_accuracy: 0.8680\n",
            "Epoch 19/20\n",
            "1050/1050 [==============================] - 4s 4ms/step - loss: 0.2916 - accuracy: 0.9144 - val_loss: 0.4727 - val_accuracy: 0.8711\n",
            "Epoch 20/20\n",
            "1050/1050 [==============================] - 4s 4ms/step - loss: 0.2812 - accuracy: 0.9176 - val_loss: 0.4807 - val_accuracy: 0.8704\n"
          ],
          "name": "stdout"
        }
      ]
    },
    {
      "cell_type": "markdown",
      "metadata": {
        "id": "tKOckG-KPyLg"
      },
      "source": [
        "### **Plotting the validation and training accuracies**"
      ]
    },
    {
      "cell_type": "markdown",
      "metadata": {
        "id": "sVyQ9Gpge2TI"
      },
      "source": [
        "#### **Question 4: Write your observations on the below plot (2 Marks)**"
      ]
    },
    {
      "cell_type": "code",
      "metadata": {
        "id": "lt77zgGMP4yw",
        "colab": {
          "base_uri": "https://localhost:8080/",
          "height": 497
        },
        "outputId": "27875369-7491-4553-fdcc-f9273e55b16a"
      },
      "source": [
        "# plotting the accuracies\n",
        "\n",
        "dict_hist = history_model_1.history\n",
        "list_ep = [i for i in range(1,21)]\n",
        "\n",
        "plt.figure(figsize = (8,8))\n",
        "plt.plot(list_ep,dict_hist['accuracy'],ls = '--', label = 'accuracy')\n",
        "plt.plot(list_ep,dict_hist['val_accuracy'],ls = '--', label = 'val_accuracy')\n",
        "plt.ylabel('Accuracy')\n",
        "plt.xlabel('Epochs')\n",
        "plt.legend()\n",
        "plt.show()"
      ],
      "execution_count": null,
      "outputs": [
        {
          "output_type": "display_data",
          "data": {
            "image/png": "[encoded data removed]",
            "text/plain": [
              "<Figure size 576x576 with 1 Axes>"
            ]
          },
          "metadata": {
            "tags": [],
            "needs_background": "light"
          }
        }
      ]
    },
    {
      "cell_type": "markdown",
      "metadata": {
        "id": "pGBbQpLONX7k"
      },
      "source": [
        "**Observations:**\n",
        "- **The model is performing better on the training dataset than the validation dataset.** Thus, our model has captured the noise with underlying patterns in the dataset. **The model is not able to generalize the new dataset**.\n",
        "\n",
        "- As we can notice in the above plot, the results for both (training and validation) datasets began to diverge around the 5th epochs, and the validation dataset has an accuracy of around 85%, whereas the training dataset has an accuracy of around 95%. There is not too much over-fitting. However,  this is still the **situation of overfitting**. Model might not be able to correctly identify the digits in the images.\n",
        "\n",
        "- We can **do following to reduce the overfitting**: \n",
        "  1. Add more data\n",
        "  2. Use data agumentation \n",
        "  3. Use architectures that generlize well\n",
        "  4. **Add regularization** (mostly droput,L1/L2 regularization are also possible)\n",
        "  5. **Reduce model architecture complexity**. "
      ]
    },
    {
      "cell_type": "markdown",
      "metadata": {
        "id": "z0qgLMBZm5-K"
      },
      "source": [
        "Let's build another model and see if we can get a better model with generalized performance.\n",
        "\n",
        "First, we need to clear the previous model's history from the keras backend. Also, let's fix the seed again after clearing the backend."
      ]
    },
    {
      "cell_type": "code",
      "metadata": {
        "id": "y98BpLxsok_H"
      },
      "source": [
        "#Clearing backend\n",
        "from tensorflow.keras import backend\n",
        "backend.clear_session()"
      ],
      "execution_count": null,
      "outputs": []
    },
    {
      "cell_type": "code",
      "metadata": {
        "id": "HbKi93HTolGW"
      },
      "source": [
        "#Fixing the seed for random number generators\n",
        "np.random.seed(42)\n",
        "import random\n",
        "random.seed(42)\n",
        "tf.random.set_seed(42)"
      ],
      "execution_count": null,
      "outputs": []
    },
    {
      "cell_type": "markdown",
      "metadata": {
        "id": "lT6o3TIKuCtk"
      },
      "source": [
        "### **Second Model Architecture**\n",
        "- Write a function that returns a sequential model with the following architecture\n",
        " - First Convolutional layer with **16 filters and kernel size of 3x3**. Use the **'same' padding** and provide an **apt input shape**\n",
        " - Add a **LeakyRelu layer** with the **slope equal to 0.1**\n",
        " - Second Convolutional layer with **32 filters and kernel size of 3x3 with 'same' padding**\n",
        " - Add **LeakyRelu** with the **slope equal to 0.1**\n",
        " - Add a **max-pooling layer** with a **pool size of 2x2**\n",
        " - Add a **BatchNormalization layer**\n",
        " - Third Convolutional layer with **32 filters and kernel size of 3x3 with 'same' padding**\n",
        " - Add a **LeakyRelu layer with slope equal to 0.1**\n",
        " - Fourth Convolutional layer **64 filters and kernel size of 3x3 with 'same' padding** \n",
        " - Add a **LeakyRelu layer with slope equal to 0.1**\n",
        " - Add a **max-pooling layer** with a **pool size of 2x2**\n",
        " - Add a **BatchNormalization layer**\n",
        " - **Flatten** the output from the previous layer\n",
        " - Add a **dense layer with 32 nodes**\n",
        " - Add a **LeakyRelu layer with slope equal to 0.1**\n",
        " - Add a **dropout layer with rate equal to 0.5**\n",
        " - Add the final **output layer with nodes equal to the number of classes** and **softmax activation**\n",
        " - Compile the model with the **categorical_crossentropy loss, adam optimizers (learning_rate = 0.001), and accuracy metric**. Do not fit the model here, just return the compiled model\n",
        "- Call the function and store the model in a new variable\n",
        "- Print the summary of the model.\n",
        "- Fit the model on the train data with a **validation split of 0.2, batch size = 128, verbose = 1, and 30 epochs**. Store the model building history to use later for visualization."
      ]
    },
    {
      "cell_type": "markdown",
      "metadata": {
        "id": "Sr-bwBT2e2TJ"
      },
      "source": [
        "#### **Question 5: Build and train the second CNN model as per the above mentioned architecture (10 Marks)**"
      ]
    },
    {
      "cell_type": "code",
      "metadata": {
        "id": "EEPYLFIPnSDP"
      },
      "source": [
        "#Define the function\n",
        "def cnn_model_2():\n",
        "    model_2 = Sequential() \n",
        "    #Add layers as per the architecture mentioned above in the same sequence\n",
        "    \n",
        "        \n",
        "    # first conv layer with 16 filters and with kernel size 3x3\n",
        "    model_2.add(Conv2D(filters=16, kernel_size=(3, 3), padding='same', input_shape=(32, 32, 1)))\n",
        "\n",
        "    # adding leaky relu activation function with negative slope of 0.1\n",
        "    model_2.add(LeakyReLU(0.1))\n",
        "\n",
        "    # second conv layer with 32 filters and with kernel size 3x3\n",
        "    model_2.add(Conv2D(filters=32, kernel_size=(3, 3), padding='same'))\n",
        "\n",
        "    # leaky relu activation function with and BatchNormalization \n",
        "    model_2.add(LeakyReLU(0.1))\n",
        "    model_2.add(BatchNormalization())\n",
        "\n",
        "    # flatting the output from the previous layer\n",
        "    model_2.add(Flatten())\n",
        "\n",
        "     # adding a dense layer with 32 nodes\n",
        "    model_2.add(Dense(32))\n",
        "\n",
        "    # adding leaky relu activation function with with slope equal to 0.1\n",
        "    model_2.add(LeakyReLU(0.1))\n",
        "\n",
        "    # adding dropout to randomly switch off 20% neurons (reduce overfitting)\n",
        "    model_2.add(Dropout(0.5))\n",
        "\n",
        "    # final output layer with 10 neurons & activation fuction(multi-class probm)\n",
        "    model_2.add(Dense(10, activation='softmax'))\n",
        "\n",
        "    #declare adam optimizer with learning rate of 0.001 \n",
        "    adam = optimizers.Adamax(learning_rate=0.001)\n",
        "    \n",
        "    #compile the model\n",
        "    model_2.compile(loss ='categorical_crossentropy',\n",
        "                  optimizer='adamax',\n",
        "                  metrics=['accuracy'])\n",
        "    \n",
        "    return model_2"
      ],
      "execution_count": null,
      "outputs": []
    },
    {
      "cell_type": "code",
      "metadata": {
        "id": "AKjDY4plnSFl"
      },
      "source": [
        "# Build the model\n",
        "model_2 = cnn_model_2() "
      ],
      "execution_count": null,
      "outputs": []
    },
    {
      "cell_type": "code",
      "metadata": {
        "id": "gz_6SVrU2swZ",
        "colab": {
          "base_uri": "https://localhost:8080/"
        },
        "outputId": "ff4377f6-c8f0-4d44-c3d3-ac04977232b7"
      },
      "source": [
        "#Print the summary\n",
        "model_2.summary()"
      ],
      "execution_count": null,
      "outputs": [
        {
          "output_type": "stream",
          "text": [
            "Model: \"sequential\"\n",
            "_________________________________________________________________\n",
            "Layer (type)                 Output Shape              Param #   \n",
            "=================================================================\n",
            "conv2d (Conv2D)              (None, 32, 32, 16)        160       \n",
            "_________________________________________________________________\n",
            "leaky_re_lu (LeakyReLU)      (None, 32, 32, 16)        0         \n",
            "_________________________________________________________________\n",
            "conv2d_1 (Conv2D)            (None, 32, 32, 32)        4640      \n",
            "_________________________________________________________________\n",
            "leaky_re_lu_1 (LeakyReLU)    (None, 32, 32, 32)        0         \n",
            "_________________________________________________________________\n",
            "batch_normalization (BatchNo (None, 32, 32, 32)        128       \n",
            "_________________________________________________________________\n",
            "flatten (Flatten)            (None, 32768)             0         \n",
            "_________________________________________________________________\n",
            "dense (Dense)                (None, 32)                1048608   \n",
            "_________________________________________________________________\n",
            "leaky_re_lu_2 (LeakyReLU)    (None, 32)                0         \n",
            "_________________________________________________________________\n",
            "dropout (Dropout)            (None, 32)                0         \n",
            "_________________________________________________________________\n",
            "dense_1 (Dense)              (None, 10)                330       \n",
            "=================================================================\n",
            "Total params: 1,053,866\n",
            "Trainable params: 1,053,802\n",
            "Non-trainable params: 64\n",
            "_________________________________________________________________\n"
          ],
          "name": "stdout"
        }
      ]
    },
    {
      "cell_type": "code",
      "metadata": {
        "id": "IQ0Sc4R-y-uu",
        "colab": {
          "base_uri": "https://localhost:8080/"
        },
        "outputId": "65bc7c9f-9c33-4eaa-9411-9e0007085be0"
      },
      "source": [
        "# Fit the model\n",
        "history_model_2 = model_2.fit(X_train, y_train,\n",
        "            epochs=30,\n",
        "            validation_split=0.1,\n",
        "            batch_size = 128,\n",
        "            verbose=1)"
      ],
      "execution_count": null,
      "outputs": [
        {
          "output_type": "stream",
          "text": [
            "Epoch 1/30\n",
            "296/296 [==============================] - 2s 6ms/step - loss: 2.1879 - accuracy: 0.2009 - val_loss: 2.1213 - val_accuracy: 0.4540\n",
            "Epoch 2/30\n",
            "296/296 [==============================] - 2s 6ms/step - loss: 1.4908 - accuracy: 0.4916 - val_loss: 1.2255 - val_accuracy: 0.7738\n",
            "Epoch 3/30\n",
            "296/296 [==============================] - 2s 5ms/step - loss: 1.0918 - accuracy: 0.6429 - val_loss: 0.6949 - val_accuracy: 0.8140\n",
            "Epoch 4/30\n",
            "296/296 [==============================] - 2s 6ms/step - loss: 0.8944 - accuracy: 0.7186 - val_loss: 0.6106 - val_accuracy: 0.8286\n",
            "Epoch 5/30\n",
            "296/296 [==============================] - 2s 5ms/step - loss: 0.7860 - accuracy: 0.7548 - val_loss: 0.5590 - val_accuracy: 0.8319\n",
            "Epoch 6/30\n",
            "296/296 [==============================] - 2s 6ms/step - loss: 0.7338 - accuracy: 0.7690 - val_loss: 0.5219 - val_accuracy: 0.8483\n",
            "Epoch 7/30\n",
            "296/296 [==============================] - 2s 5ms/step - loss: 0.6903 - accuracy: 0.7834 - val_loss: 0.5419 - val_accuracy: 0.8438\n",
            "Epoch 8/30\n",
            "296/296 [==============================] - 2s 5ms/step - loss: 0.6560 - accuracy: 0.7951 - val_loss: 0.5164 - val_accuracy: 0.8502\n",
            "Epoch 9/30\n",
            "296/296 [==============================] - 2s 5ms/step - loss: 0.6314 - accuracy: 0.8032 - val_loss: 0.5155 - val_accuracy: 0.8448\n",
            "Epoch 10/30\n",
            "296/296 [==============================] - 2s 5ms/step - loss: 0.6089 - accuracy: 0.8122 - val_loss: 0.4925 - val_accuracy: 0.8540\n",
            "Epoch 11/30\n",
            "296/296 [==============================] - 2s 5ms/step - loss: 0.5921 - accuracy: 0.8157 - val_loss: 0.4815 - val_accuracy: 0.8571\n",
            "Epoch 12/30\n",
            "296/296 [==============================] - 2s 6ms/step - loss: 0.5678 - accuracy: 0.8221 - val_loss: 0.4807 - val_accuracy: 0.8612\n",
            "Epoch 13/30\n",
            "296/296 [==============================] - 2s 6ms/step - loss: 0.5588 - accuracy: 0.8252 - val_loss: 0.4872 - val_accuracy: 0.8548\n",
            "Epoch 14/30\n",
            "296/296 [==============================] - 2s 6ms/step - loss: 0.5416 - accuracy: 0.8291 - val_loss: 0.4680 - val_accuracy: 0.8631\n",
            "Epoch 15/30\n",
            "296/296 [==============================] - 2s 6ms/step - loss: 0.5244 - accuracy: 0.8330 - val_loss: 0.4820 - val_accuracy: 0.8626\n",
            "Epoch 16/30\n",
            "296/296 [==============================] - 2s 6ms/step - loss: 0.5139 - accuracy: 0.8369 - val_loss: 0.4919 - val_accuracy: 0.8531\n",
            "Epoch 17/30\n",
            "296/296 [==============================] - 2s 6ms/step - loss: 0.5070 - accuracy: 0.8393 - val_loss: 0.4859 - val_accuracy: 0.8586\n",
            "Epoch 18/30\n",
            "296/296 [==============================] - 2s 6ms/step - loss: 0.4923 - accuracy: 0.8448 - val_loss: 0.4839 - val_accuracy: 0.8612\n",
            "Epoch 19/30\n",
            "296/296 [==============================] - 2s 5ms/step - loss: 0.4827 - accuracy: 0.8461 - val_loss: 0.4680 - val_accuracy: 0.8667\n",
            "Epoch 20/30\n",
            "296/296 [==============================] - 2s 5ms/step - loss: 0.4697 - accuracy: 0.8506 - val_loss: 0.4612 - val_accuracy: 0.8710\n",
            "Epoch 21/30\n",
            "296/296 [==============================] - 2s 6ms/step - loss: 0.4614 - accuracy: 0.8507 - val_loss: 0.4526 - val_accuracy: 0.8683\n",
            "Epoch 22/30\n",
            "296/296 [==============================] - 2s 5ms/step - loss: 0.4520 - accuracy: 0.8536 - val_loss: 0.4612 - val_accuracy: 0.8650\n",
            "Epoch 23/30\n",
            "296/296 [==============================] - 2s 6ms/step - loss: 0.4422 - accuracy: 0.8595 - val_loss: 0.4621 - val_accuracy: 0.8683\n",
            "Epoch 24/30\n",
            "296/296 [==============================] - 2s 5ms/step - loss: 0.4315 - accuracy: 0.8615 - val_loss: 0.4810 - val_accuracy: 0.8617\n",
            "Epoch 25/30\n",
            "296/296 [==============================] - 2s 6ms/step - loss: 0.4203 - accuracy: 0.8646 - val_loss: 0.4783 - val_accuracy: 0.8664\n",
            "Epoch 26/30\n",
            "296/296 [==============================] - 2s 6ms/step - loss: 0.4118 - accuracy: 0.8676 - val_loss: 0.4703 - val_accuracy: 0.8717\n",
            "Epoch 27/30\n",
            "296/296 [==============================] - 2s 6ms/step - loss: 0.4062 - accuracy: 0.8681 - val_loss: 0.4741 - val_accuracy: 0.8688\n",
            "Epoch 28/30\n",
            "296/296 [==============================] - 2s 6ms/step - loss: 0.3973 - accuracy: 0.8715 - val_loss: 0.4766 - val_accuracy: 0.8621\n",
            "Epoch 29/30\n",
            "296/296 [==============================] - 2s 5ms/step - loss: 0.3883 - accuracy: 0.8721 - val_loss: 0.4565 - val_accuracy: 0.8724\n",
            "Epoch 30/30\n",
            "296/296 [==============================] - 2s 5ms/step - loss: 0.3879 - accuracy: 0.8727 - val_loss: 0.4955 - val_accuracy: 0.8593\n"
          ],
          "name": "stdout"
        }
      ]
    },
    {
      "cell_type": "markdown",
      "metadata": {
        "id": "0_f1EXmTe2TK"
      },
      "source": [
        "### **Plotting the validation and training accuracies**"
      ]
    },
    {
      "cell_type": "markdown",
      "metadata": {
        "id": "aC5UbsqXe2TK"
      },
      "source": [
        "#### **Question 6: Write your observations on the below plot (2 Marks)**"
      ]
    },
    {
      "cell_type": "code",
      "metadata": {
        "id": "01ig6BrF1KVy",
        "colab": {
          "base_uri": "https://localhost:8080/",
          "height": 497
        },
        "outputId": "7c438ca3-e834-490b-b17f-2f6cab1e3b94"
      },
      "source": [
        "# plotting the accuracies\n",
        "\n",
        "dict_hist = history_model_2.history\n",
        "list_ep = [i for i in range(1,31)]\n",
        "\n",
        "plt.figure(figsize = (8,8))\n",
        "plt.plot(list_ep,dict_hist['accuracy'],ls = '--', label = 'accuracy')\n",
        "plt.plot(list_ep,dict_hist['val_accuracy'],ls = '--', label = 'val_accuracy')\n",
        "plt.ylabel('Accuracy')\n",
        "plt.xlabel('Epochs')\n",
        "plt.legend()\n",
        "plt.show()"
      ],
      "execution_count": null,
      "outputs": [
        {
          "output_type": "display_data",
          "data": {
            "image/png": "[encoded data removed]",
            "text/plain": [
              "<Figure size 576x576 with 1 Axes>"
            ]
          },
          "metadata": {
            "tags": [],
            "needs_background": "light"
          }
        }
      ]
    },
    {
      "cell_type": "markdown",
      "metadata": {
        "id": "VPW1LlD61RDn"
      },
      "source": [
        "**Observations:**\n",
        "\n",
        "- Even though the *training accuracy* goes down slightly(from above 90% to below 90%), **the model performance has improved compared to the previous model**.\n",
        "\n",
        "- Around 30 epochs, the model's accuracy on both the training and validation dataset is around 85-86%. As we can observe from the plot that the *validation accuracy* is closer to the *training accuracy*. **Hence, the model performance has improved and giving a generalized performance.**"
      ]
    },
    {
      "cell_type": "markdown",
      "metadata": {
        "id": "8kuXx9Bvu00f"
      },
      "source": [
        "## **Predictions on the test data**\n",
        "\n",
        "- Make predictions on the test set using the second model\n",
        "- Print the obtained results using classification report and the confusion matrix\n",
        "- Final observations from the obtained results"
      ]
    },
    {
      "cell_type": "markdown",
      "metadata": {
        "id": "yfZwC9OUe2TL"
      },
      "source": [
        "#### **Question 7: Make predictions on the test data using the second model (1 Mark)**"
      ]
    },
    {
      "cell_type": "code",
      "metadata": {
        "id": "xbWMEtTj5Ad0"
      },
      "source": [
        "#Make prediction on the test data using model_2 \n",
        "test_pred = model_2.predict(X_test)\n",
        "\n",
        "test_pred = np.argmax(test_pred, axis=-1)"
      ],
      "execution_count": null,
      "outputs": []
    },
    {
      "cell_type": "markdown",
      "metadata": {
        "id": "i3li8Ib08yts"
      },
      "source": [
        "**Note:** Earlier, we noticed that each entry of the test data is a one-hot encoded vector but to print the classification report and confusion matrix, we must convert each entry of y_test to a single label."
      ]
    },
    {
      "cell_type": "code",
      "metadata": {
        "id": "NByu7uAQ8x9P"
      },
      "source": [
        "#Converting each entry to single label from one-hot encoded vector\n",
        "y_test = np.argmax(y_test, axis=-1)"
      ],
      "execution_count": null,
      "outputs": []
    },
    {
      "cell_type": "markdown",
      "metadata": {
        "id": "yHDUEma0e2TM"
      },
      "source": [
        "#### **Question 8: Write your final observations on the performance of the model on the test data (2 Marks)**"
      ]
    },
    {
      "cell_type": "code",
      "metadata": {
        "colab": {
          "base_uri": "https://localhost:8080/",
          "height": 620
        },
        "id": "xRddeJ-3EHT1",
        "outputId": "cf6caa35-afe9-4731-eab5-ca12e984dfa4"
      },
      "source": [
        "#importing required functions\n",
        "from sklearn.metrics import classification_report\n",
        "from sklearn.metrics import confusion_matrix\n",
        "\n",
        "#Printing the classification report\n",
        "print(classification_report(y_test, test_pred))\n",
        "\n",
        "#Plotting the heatmap using confusion matrix\n",
        "cm = confusion_matrix(y_test, test_pred)\n",
        "plt.figure(figsize=(8,5))\n",
        "sns.heatmap(cm, annot=True,  fmt='.0f')\n",
        "plt.ylabel('Actual')\n",
        "plt.xlabel('Predicted')\n",
        "plt.show()"
      ],
      "execution_count": null,
      "outputs": [
        {
          "output_type": "stream",
          "text": [
            "              precision    recall  f1-score   support\n",
            "\n",
            "           0       0.89      0.88      0.89      1814\n",
            "           1       0.91      0.85      0.88      1828\n",
            "           2       0.90      0.87      0.89      1803\n",
            "           3       0.84      0.76      0.80      1719\n",
            "           4       0.89      0.89      0.89      1812\n",
            "           5       0.74      0.91      0.81      1768\n",
            "           6       0.82      0.86      0.84      1832\n",
            "           7       0.91      0.90      0.91      1808\n",
            "           8       0.85      0.79      0.82      1812\n",
            "           9       0.84      0.86      0.85      1804\n",
            "\n",
            "    accuracy                           0.86     18000\n",
            "   macro avg       0.86      0.86      0.86     18000\n",
            "weighted avg       0.86      0.86      0.86     18000\n",
            "\n"
          ],
          "name": "stdout"
        },
        {
          "output_type": "display_data",
          "data": {
            "image/png": "[encoded data removed]",
            "text/plain": [
              "<Figure size 576x360 with 2 Axes>"
            ]
          },
          "metadata": {
            "tags": [],
            "needs_background": "light"
          }
        }
      ]
    },
    {
      "cell_type": "code",
      "metadata": {
        "colab": {
          "base_uri": "https://localhost:8080/",
          "height": 442
        },
        "id": "xOWb_xroyLVw",
        "outputId": "c4a649c1-a7ab-4794-f0b9-b92c527263c6"
      },
      "source": [
        "#Normalize the confusion matrix\n",
        "cm = confusion_matrix(y_test, test_pred)\n",
        "plt.figure(figsize=(10, 7))\n",
        "sns.heatmap(cm/np.sum(cm, axis =1), annot=True,\n",
        "            fmt='.2%')\n",
        "plt.ylabel('Actual')\n",
        "plt.xlabel('Predicted')\n",
        "plt.show()"
      ],
      "execution_count": null,
      "outputs": [
        {
          "output_type": "display_data",
          "data": {
            "image/png": "[encoded data removed]",
            "text/plain": [
              "<Figure size 720x504 with 2 Axes>"
            ]
          },
          "metadata": {
            "tags": [],
            "needs_background": "light"
          }
        }
      ]
    },
    {
      "cell_type": "markdown",
      "metadata": {
        "id": "DjErl4GA2u9s"
      },
      "source": [
        "#### **Observations:**\n",
        "\n",
        "- **The model is giving about 86% accuracy (recall) on the training dataset which is comparable to the accuracy of the validation dataset**. Hence, the model is giving a generalized performance.\n",
        "\n",
        "- **Model has the highest recall of 90.55% [{(~ 91%) - predicted value matches the actual value i.e. model correctly identity number 5 (predicted) as number 5 (actual)}].** Besides, number 3 has the lowest recall rate i.e 75.74% (~ 76%). On the other hand, number **7** has the **highest precision; 91.34% of the correctly predicted 7** actually turned out to be positive. The recall of 7 is 89.88 (~ 90%). Only the number 7's precison and recall score are above 90 % (very good).\n",
        "\n",
        "- **Number 3, and 5 have lowest f1-score** (harmonic mean of precision & recall/give us overall mean - overall health of performance. The f-score of the 3 and 5 are 0.80, and 0.81 respectively. On the other hand, 7 have highest f1-score (91%), which implies that the model is able to distinguish 7 from other numbers.\n"
      ]
    }
  ]
}